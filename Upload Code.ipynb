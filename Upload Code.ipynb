{
 "cells": [
  {
   "cell_type": "code",
   "execution_count": 11,
   "id": "8e66c82e",
   "metadata": {},
   "outputs": [
    {
     "name": "stdout",
     "output_type": "stream",
     "text": [
      "Enter a city name: Austin\n",
      "Enter the state code (2 capital letters): TX\n",
      "How many miles from the city center do you want the northern bound to be: 45\n",
      "How many miles from the city center do you want the southern bound to be: 45\n",
      "How many miles from the city center do you want the eastern bound to be: 45\n",
      "How many miles from the city center do you want the western bound to be: 45\n",
      "Map saved as Austin_TX_map.html\n",
      "Map screenshot saved as C:\\Users\\Lparede\\Pictures\\Photos of Maps\\Austin_TX_map.png\n"
     ]
    }
   ],
   "source": [
    "import os\n",
    "import time\n",
    "import folium\n",
    "from geopy.geocoders import Nominatim\n",
    "from selenium import webdriver\n",
    "from selenium.webdriver.chrome.service import Service\n",
    "from webdriver_manager.chrome import ChromeDriverManager\n",
    "\n",
    "# Step 1: User Input\n",
    "city_name = input(\"Enter a city name: \")\n",
    "state_code = input(\"Enter the state code (2 capital letters): \")\n",
    "\n",
    "# Step 2: Geocoding\n",
    "geolocator = Nominatim(user_agent=\"city_polygon_plotter\")\n",
    "location = geolocator.geocode(f\"{city_name}, {state_code}\")\n",
    "latitude = location.latitude\n",
    "longitude = location.longitude\n",
    "\n",
    "# Step 3: User Input\n",
    "north_bound = input('How many miles from the city center do you want the northern bound to be: ')\n",
    "north = float(north_bound)\n",
    "south_bound = input('How many miles from the city center do you want the southern bound to be: ')\n",
    "south = float(south_bound)\n",
    "east_bound = input('How many miles from the city center do you want the eastern bound to be: ')\n",
    "east = float(east_bound)\n",
    "west_bound = input('How many miles from the city center do you want the western bound to be: ')\n",
    "west = float(west_bound)\n",
    "\n",
    "# Adds the numbers up to determine an appropriate zoom level\n",
    "total_sum = north + south + east + west\n",
    "\n",
    "# Step 4: Map Visualization\n",
    "if total_sum <= 40:\n",
    "    m = folium.Map(location=[latitude, longitude], zoom_start=12)\n",
    "elif 40 < total_sum <= 60:\n",
    "    m = folium.Map(location=[latitude, longitude], zoom_start=11)\n",
    "elif 60 < total_sum <= 180:\n",
    "    m = folium.Map(location=[latitude, longitude], zoom_start=10)\n",
    "else:\n",
    "    m = folium.Map(location=[latitude, longitude], zoom_start=9)\n",
    "\n",
    "                   \n",
    "# Add a bounding box as a rectangle\n",
    "folium.Rectangle(\n",
    "    bounds=[(latitude - 0.01*south, longitude - 0.01*west), (latitude + 0.01*north, longitude + 0.01*east)],\n",
    "    color='blue',\n",
    "    fill=False\n",
    ").add_to(m)\n",
    "\n",
    "# Save the map as an HTML file\n",
    "output_file = f\"{city_name}_{state_code}_map.html\"\n",
    "m.save(output_file)\n",
    "print(f\"Map saved as {output_file}\")\n",
    "\n",
    "# Initialize a Chrome web browser\n",
    "service = Service(ChromeDriverManager().install())\n",
    "driver = webdriver.Chrome(service=service)\n",
    "\n",
    "# Load the HTML file and wait for a while to ensure it's fully loaded\n",
    "driver.get(f'file://{os.path.abspath(output_file)}')\n",
    "time.sleep(5)  # Adjust the waiting time as needed\n",
    "\n",
    "# Take a screenshot and save as PNG image\n",
    "output_png_file = f\"{city_name}_{state_code}_map.png\"\n",
    "output_png_path = os.path.join(\"C:\\\\Users\\\\Lparede\\\\Pictures\\\\Photos of Maps\", output_png_file)\n",
    "driver.save_screenshot(output_png_path)\n",
    "print(f\"Map screenshot saved as {output_png_path}\")\n",
    "\n",
    "# Close the browser\n",
    "driver.quit()\n"
   ]
  },
  {
   "cell_type": "code",
   "execution_count": null,
   "id": "1f4c1c6e",
   "metadata": {},
   "outputs": [],
   "source": []
  }
 ],
 "metadata": {
  "kernelspec": {
   "display_name": "Python 3 (ipykernel)",
   "language": "python",
   "name": "python3"
  },
  "language_info": {
   "codemirror_mode": {
    "name": "ipython",
    "version": 3
   },
   "file_extension": ".py",
   "mimetype": "text/x-python",
   "name": "python",
   "nbconvert_exporter": "python",
   "pygments_lexer": "ipython3",
   "version": "3.11.4"
  }
 },
 "nbformat": 4,
 "nbformat_minor": 5
}
